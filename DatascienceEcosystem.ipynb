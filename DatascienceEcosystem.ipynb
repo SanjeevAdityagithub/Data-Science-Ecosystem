{
 "cells": [
  {
   "cell_type": "markdown",
   "id": "d342df44-89ef-4cfd-a760-7be9af1b9f29",
   "metadata": {},
   "source": [
    "Data Science Tools and Ecosystem"
   ]
  },
  {
   "cell_type": "markdown",
   "id": "7408143e-060b-4866-abcb-0a71627835c6",
   "metadata": {
    "tags": []
   },
   "source": [
    "IN THIS NOTEBOOK ,DATA SCIENCE TOOLS AND ECOSYSTEM ARE SUMMARIZED\n"
   ]
  },
  {
   "cell_type": "code",
   "execution_count": null,
   "id": "58f4e038-411d-4dbf-9ae5-d9a8311603fa",
   "metadata": {},
   "outputs": [],
   "source": [
    "A data ecosystem refers to a combination of enterprise infrastructure and application\n",
    "that is utilized to aggregate and analyze information. It enables organizations to better\n",
    "understand theircustomers and craft superiormarketing, pricing and operations strategies."
   ]
  },
  {
   "cell_type": "markdown",
   "id": "23f1cb7b-c49e-4c95-b49d-3a712fc30326",
   "metadata": {},
   "source": [
    "OBJECTIVES:"
   ]
  },
  {
   "cell_type": "markdown",
   "id": "eda061e3-fe4e-4192-97de-30eafc8cd63c",
   "metadata": {},
   "source": [
    "UNORDERED LIST"
   ]
  },
  {
   "cell_type": "markdown",
   "id": "6f9d222b-1210-43c7-916e-e179247acf94",
   "metadata": {},
   "source": [
    "LIST POPULAR LANGUAGES FOR DATA SCIENCE"
   ]
  },
  {
   "cell_type": "code",
   "execution_count": null,
   "id": "f34d4fdc-6a50-426a-afb9-f3e15e3b5f72",
   "metadata": {},
   "outputs": [],
   "source": [
    "1.SCALA\n",
    "2.JAVA\n",
    "3.C++\n",
    "4.JAVA SCRIPT"
   ]
  },
  {
   "cell_type": "markdown",
   "id": "fa0b8d10-22da-4bb4-b187-84ee144a3902",
   "metadata": {},
   "source": [
    "SOME OF THE POPULAR LANGUAGES THAT DATA SCIENTISTS USE ARE:"
   ]
  },
  {
   "cell_type": "markdown",
   "id": "6ec4c9a7-a874-4ed8-b4e6-1884407f289b",
   "metadata": {},
   "source": [
    "ORDERED LIST"
   ]
  },
  {
   "cell_type": "code",
   "execution_count": null,
   "id": "8f3ff52d-555f-4003-a016-fca99254387e",
   "metadata": {},
   "outputs": [],
   "source": [
    "1.PYTHON\n",
    "2.R\n",
    "3.SQL"
   ]
  },
  {
   "cell_type": "markdown",
   "id": "1bdf68b2-fbc3-46b3-847c-6e30084fc981",
   "metadata": {},
   "source": [
    "SOME OF THE COMMONLY USED LIBRARIES USED BY DATA SCIENTISTS INCLUDE:"
   ]
  },
  {
   "cell_type": "markdown",
   "id": "8658b687-4429-40fb-ae77-edc541d02f20",
   "metadata": {},
   "source": [
    "ORDERED LIST"
   ]
  },
  {
   "cell_type": "code",
   "execution_count": null,
   "id": "7fae3bb7-e535-4a30-8dbb-854bfe600aa2",
   "metadata": {},
   "outputs": [],
   "source": [
    "1.PANDAS\n",
    "2.MATPLOTLIB\n",
    "3.NUMPY"
   ]
  },
  {
   "cell_type": "markdown",
   "id": "d220902e-4283-4f1f-86b6-ceede7271994",
   "metadata": {},
   "source": [
    "DATA SCIENCE TOOLS"
   ]
  },
  {
   "cell_type": "code",
   "execution_count": null,
   "id": "08453ef3-776a-4630-944f-e9945843516f",
   "metadata": {},
   "outputs": [],
   "source": [
    "1.APACHE SPARK\n",
    "2.R STUDIO\n",
    "3.TENSORFLOW"
   ]
  },
  {
   "cell_type": "markdown",
   "id": "1d02455e-0b9a-4a59-b735-2d453ab294f5",
   "metadata": {},
   "source": [
    "BELOW ARE A FEW EXAMPLES OF EVALUATING ARITHMETIC EXPRESSION IN PYTHON"
   ]
  },
  {
   "cell_type": "code",
   "execution_count": 3,
   "id": "6048aef0-4278-4c5f-ba67-5cbd03d86d61",
   "metadata": {
    "tags": []
   },
   "outputs": [
    {
     "data": {
      "text/plain": [
       "140"
      ]
     },
     "execution_count": 3,
     "metadata": {},
     "output_type": "execute_result"
    }
   ],
   "source": [
    "7*(5+15)"
   ]
  },
  {
   "cell_type": "markdown",
   "id": "89a9233e-557c-4ff0-a2a6-9641949d758b",
   "metadata": {},
   "source": [
    "THIS A SIMPLE ARITHMETIC EXPRESSION TO MULTIPLY THEN ADD INTEGERS"
   ]
  },
  {
   "cell_type": "code",
   "execution_count": 4,
   "id": "9f85fdf8-bdcc-4096-b641-c1780cfe6bad",
   "metadata": {
    "tags": []
   },
   "outputs": [
    {
     "data": {
      "text/plain": [
       "17"
      ]
     },
     "execution_count": 4,
     "metadata": {},
     "output_type": "execute_result"
    }
   ],
   "source": [
    "(3*4)+5"
   ]
  },
  {
   "cell_type": "markdown",
   "id": "0b7caede-f300-45eb-b09c-97125ca89d3a",
   "metadata": {},
   "source": [
    "THIS WILL CONVERT 200 MINUTES TO HOURS BY DIVIDE BY 60"
   ]
  },
  {
   "cell_type": "code",
   "execution_count": 9,
   "id": "80511fd7-d8a7-463f-9ed2-2489d29ab2d8",
   "metadata": {
    "tags": []
   },
   "outputs": [
    {
     "data": {
      "text/plain": [
       "3.3333333333333335"
      ]
     },
     "execution_count": 9,
     "metadata": {},
     "output_type": "execute_result"
    }
   ],
   "source": [
    "(200/60)"
   ]
  },
  {
   "cell_type": "markdown",
   "id": "43e900cf-8965-4bd3-a009-d85b8ea5644a",
   "metadata": {},
   "source": [
    "AUTHOR"
   ]
  },
  {
   "cell_type": "code",
   "execution_count": null,
   "id": "1828f250-b8cd-4fa2-9357-334a5b1adb83",
   "metadata": {},
   "outputs": [],
   "source": [
    "Sanjeev Aditya"
   ]
  }
 ],
 "metadata": {
  "kernelspec": {
   "display_name": "Python",
   "language": "python",
   "name": "conda-env-python-py"
  },
  "language_info": {
   "codemirror_mode": {
    "name": "ipython",
    "version": 3
   },
   "file_extension": ".py",
   "mimetype": "text/x-python",
   "name": "python",
   "nbconvert_exporter": "python",
   "pygments_lexer": "ipython3",
   "version": "3.7.12"
  }
 },
 "nbformat": 4,
 "nbformat_minor": 5
}
